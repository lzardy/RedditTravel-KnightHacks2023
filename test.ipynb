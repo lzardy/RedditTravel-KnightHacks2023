{
 "cells": [
  {
   "cell_type": "code",
   "execution_count": 1,
   "metadata": {},
   "outputs": [],
   "source": [
    "from dotenv import load_dotenv\n",
    "import os\n",
    "from googlesearch import search\n",
    "import langchain\n",
    "from pydantic import BaseModel"
   ]
  },
  {
   "cell_type": "code",
   "execution_count": 2,
   "metadata": {},
   "outputs": [
    {
     "data": {
      "text/plain": [
       "True"
      ]
     },
     "execution_count": 2,
     "metadata": {},
     "output_type": "execute_result"
    }
   ],
   "source": [
    "load_dotenv()"
   ]
  },
  {
   "cell_type": "code",
   "execution_count": 3,
   "metadata": {},
   "outputs": [],
   "source": [
    "CLIENT_ID = \"eL0dPt3KXcqqRG5Ka79cZQ\""
   ]
  },
  {
   "cell_type": "code",
   "execution_count": 4,
   "metadata": {},
   "outputs": [],
   "source": [
    "secret = os.environ.get(\"SECRET_KEY\")"
   ]
  },
  {
   "cell_type": "code",
   "execution_count": 5,
   "metadata": {},
   "outputs": [],
   "source": [
    "x = search(\"new york city restaurant recommendations site:reddit.com\", num_results=1)\n",
    "urls = list(x)"
   ]
  },
  {
   "cell_type": "code",
   "execution_count": 6,
   "metadata": {},
   "outputs": [
    {
     "data": {
      "text/plain": [
       "['https://www.reddit.com/r/FoodNYC/comments/ubxf1s/looking_for_input_on_my_nyc_staple_restaurant_list/',\n",
       " 'https://www.reddit.com/r/nyc/comments/13pltp/best_of_new_york_restaurants/',\n",
       " 'https://www.reddit.com/r/FoodNYC/comments/yvpr48/top_5_must_eat_food_for_people_visiting_nyc/']"
      ]
     },
     "execution_count": 6,
     "metadata": {},
     "output_type": "execute_result"
    }
   ],
   "source": [
    "urls"
   ]
  },
  {
   "cell_type": "code",
   "execution_count": 7,
   "metadata": {},
   "outputs": [],
   "source": [
    "import praw"
   ]
  },
  {
   "cell_type": "code",
   "execution_count": 8,
   "metadata": {},
   "outputs": [],
   "source": [
    "reddit = praw.Reddit(client_id=CLIENT_ID,\n",
    "                     client_secret=secret,\n",
    "                     password='Calculus2015!',\n",
    "                        user_agent='APIMagic/0.0.1',\n",
    "                        username='illumi_natu')\n",
    "                    "
   ]
  },
  {
   "cell_type": "code",
   "execution_count": 9,
   "metadata": {},
   "outputs": [
    {
     "name": "stdout",
     "output_type": "stream",
     "text": [
      "['I do appreciate whomever added Olive Garden to the list. I assume they mean the one in Times Square for maximum authenticity.', 'On a technical side of things: anyone else getting only the first \\'page\\' loading and you have to keep scrolling through each \\'page\\' to get all the pins to load?  Very screwy.\\n\\nThoughts/suggestions:\\n\\nFor someone working around Washington Sq Pk, you\\'ve got not much there, so let\\'s do that.\\n\\n* Saigon Shack - If you have good pho where you\\'re from, skip, but I happen to love their oxtail and their lemon grass chicken pho.\\n* Spicy Moon - Fucking fantastic vegan Szechuan\\n* Pommes Frites - One of my favorite places in the world.  get fries, some sauces and go sit in the park.  War Sauce was my staple in HS, but I\\'ve switched to Curry Ketchup Especial, and Ziggy\\'s is fucking amazing, but honestly, they\\'re all good and varied, ask for samples.  Much more fun w/ friends, b/c there\\'s more sauces.\\n* The Kati Roll Company - You have the Bryant Park location on the map, but there\\'s one over here also, 100% recommend.  Again, get, go to park, enjoy, watch dogs/people.\\n* Speaking of Indian, The Dosa Man - Cart on the edge of the park, never actually been (it\\'s a long line, I\\'m lazy), but every report is that it\\'s fantastic.\\n* Third Rail - I\\'m a fan of them for a cortado.\\n* Meskerem - the only Ethopian place I\\'ve ever tried (so if you\\'re from DC, skip), but I enjoyed it.\\n\\nRanging a bit further into the West Village\\n\\n* Jajaja - Apparently they have an outpost over there now.  Great Vegan Mexican, I\\'ve only been to the LES one.\\n* The Donut Project - Good donuts (I prefer sour doughnuts from Donut Plant though).\\n* Jeju Noodle Bar - Expensive, but really good Korean Ramyun\\n\\nOn ramen -  This all gets controversial.  I\\'m not a huge fan of either Ippudo (I\\'d rather go to Hide Chan, but at least half of that is nostalgia) or Momofuku Noodle Bar (for ramen, do go, get pork buns and anything other than ramen, the chilled spicy noodles are one of my favorite dishes).  Ichiran is painfully expensive, and while I like their soup and their spicy sauce, their noodles are mid at best (go soft super fast).  Ivan, fine, though not stand out to me.  My personal favorites are Nakamura (ridiculously rich ton toro or the xo miso), and TabeTomo (I\\'m a sucker for tsukemen), and Hide Chan is sorta my default \"It\\'s disgusting out, let\\'s go get ramen\".\\n\\nThat all said, I wouldn\\'t advise you against any of them.  I always think half the fun of Ramen is going to different places, seeing what they do and how they do it and how it compares to other places.\\n\\nSome last random notes:\\n\\n* Joe\\'s - hard pass. For soup dumplings: 100 mott st (whatever it\\'s name is, this is a default for us), New Green Bo (I think that\\'s the name? I prefer 100 mott, but there\\'s other contenders in Chinatown), The Bao (my favorite in Manhattan), Memories of Shanghai (come out to Queens, these are hands down my favorite atm).\\n* Kajitsu - very cool\\n* Grace St - One of my favorite coffee shops, mainly for the decore, setting, etc.  I kill a lot of time there when meeting people in KTown.\\n* Katsu-Hama - Very good, but I\\'d steer you to Abiko (in KTown, lots of fun for drowning your life in spice) or Curry-ya (10th st, EV a long time fav of mine), just for convenience to other things.\\n* Peter Lugar - I think I\\'d steer you to Keens instead.\\n\\n\\nCome out to Queens, I think you\\'d like it here.  I\\'ll explicitly call out Playground and Khao Kang as being my 2 favorite Thai spots in NYC.  They do not fuck around with heat or funk, if the waitstaff at Playground tell you \"You don\\'t want spicy, you want medium\" believe them, unless you like mainlining reapers, and they have some really pungently fermented dishes, it\\'s great.  Khao Kang is a steamtable joint, so there\\'s no modifying heat.\\n\\nOk, I\\'m done for now, I don\\'t know why I felt like typing all that up just now.\\n\\nEnjoy your stay :)', 'Ooh, a solid list! Some add-on thoughts for places you have on your list already:\\n\\n* **Lucali** \\\\- This is a whole afternoon thing, you line up early in the afternoon and hopefully get a spot for way later in the day. It\\'s helpful to plan your day around this because you really have to commit to the line + the wait!\\n* **Zooba** \\\\- heck yeah I love this place!\\n* **Veselka** \\\\- This place is a NYC staple, so definitely would recommend!! For more Ukranian food, I\\'d also recommend **Streetcha** nearby\\n* **Awash** is good, I\\'d also recommend **Haile** which is the other major Ethiopian restaurant\\n* **Thursday Kitchen** So good!! Best to get there right at 5pm and put your name down. Also would recommend coming in a larger group so you can try a bunch of different things.\\n* **4 Charles** I\\'ve found this reservation annoyingly difficult to get, so definitely plan in advance.\\n\\nSome other random recs off the top of my head:\\n\\n* **Suki** (East Village) $$ Some of my favorite Japanese curry in NYC\\n* **Raku** (East Village or Soho) $$ Best udon noodles in the city IMO\\n* **Salma** (East Village) $$ Great Lebanese food. The owner is very nice and chatty, and the portions are large.\\n* **Forma** (Greenpoint) $ Cheap pasta, I\\'d compare it to San Marzano in terms of price point + quality\\n* **Taim** (Flatiron) $$ Fast-casual place. I really like the falafel here, would recommend getting a wrap, not a bowl.\\n* **Cote** (Flatiron) $$$ Bougie/trendy Korean steakhouse. I ADORE their Butcher\\'s Feast set, which is a ton of food for about $65 pp before tax/tip. Best to go in min group of 4 people (they allocate the best seating times for groups of 4+ or else you\\'re stuck eating at 5pm or 10pm for groups of 1-2) and be prepared to eat a lot of food. Best to book through their website instead of Resy.\\n* **Misi** or **Lilia** (Williamsburg) $$$ Trendy pasta places run by the same chef. Misi is easier to book than Lilia, but you\\'ll still need to plan a couple of weeks out. Personally I think the appetizers shine here (moreso than the pasta), but the pasta is pretty good.\\n* **Bernie\\'s** (Greenpoint) $$-$$$ Very small menu of classic diner-y food. Recommend the cobb salad, mozz sticks (soooo good), and either the vinegar chicken or chicken parm\\n* **4 Horsemen** (Williamsburg) $$$ Super trendy, small plates. Was actually surprised by how much I liked all their dishes, given that I tend to be biased against overly-trendy restaurants\\n* **Haidilao Hotpot** (Flushing) $$ IMO best hotpot place in the city, although it\\'s a small trek. It\\'s not AYCE, but good to bring 4+ people.\\n* **Claro** (Gowanus) $$$ Amazing mole, if you like mole.\\n* **Oxomoco** (Greenpoint) $$$ Solidly executed fancy-ish Mexican food\\n* **Le Crocodile** (Greenpoint) $$$ Would recommend brunch over dinner. Solidly French. Get their donut if you go for brunch, it\\'s sooooo good. A lil pricey for brunch IMO\\n* Nom Wah is ok, but there are better places to get dim sum - would recommend **Jing Fong** or maybe **Golden Unicorn**, which are classics, and if you wanna get really authentic, you can go to **East Harbor Seafood Palace**\\n* **Carbone** (Greenwich Village) $$$ Kinda cheesy, but personally I do enjoy this place when I can get a reservation. Book in advance.\\n* **Kopitiam** (Chinatown) $$ Highly recommend this as a do not miss!! Casual-ish Malaysian food in a non-assuming spot. Pretty cheap, too.\\n* **Dhamaka** and **Semma** $$$ 2 trendy Indian restaurants that became really popular this year (both opened recently-ish iirc). Both are incredibly good and different from a traditional Indian restaurant that just serves the standard dishes you see everywhere, just be prepared for everything to be incredibly spicy. Book reservations in advance.\\n* **Gage & Tollner** (Downtown BK) $$$ I haven\\'t been here personally but have had it highly recommended\\n* Banana pudding from **Magnolia Bakery** and cookies from **Levain** are both NYC classics\\n* **B&H Dairy** (East Village) $ This might be a nostalgia thing for me, but it\\'s definitely a NYC classic. No-frills diner that serves good ass food\\n* **Golda** (Bed Stuy) $$ Tiny cafe spot that has great counter service. It\\'s really small, so would recommend booking a reservation if you wanna get dinner there (it\\'s good)\\n* **Maya Congee** (Bed Stuy) $$ I found this place to be weirdly good for a bougie congee place. Beware, their kimchi is REALLY spicy tho\\n* **Astoria Seafood** (Astoria) $$ NYC classic, they cook fish for you\\n* **Queen\\'s Night Market** (Flushing?) Variety of food, runs through the summer on Saturdays\\n* **Wayla** (LES) $$ Popular thai place. Looks like you already have some other good Thai places on your list tho, so wouldn\\'t say this is a must-do\\n* **Casa Mono** (Gramercy) $$$ Small plates, very good\\n* **Paulie Gee\\'s** (Greenpoint) $$ Recommend the sit down place, I like their unique pizzas. Also if you\\'re lucky you get to meet Paulie Gee\\n\\nAnd Re: tasting menus - there are a lot of tasting menus in the city. I would personally skip some of the ones you have listed (Per Se in particular). My #1 rec is **Atomix**, although I see you don\\'t like seafood-- IMO Atomix is my favorite, by far, between Jungsik/Atera/Aska/Jean Georges/Per Se.\\n\\nSome other tasting menu recs:\\n\\n* **Gramercy Tavern** ($200-ish pp) I know Eater gave a not-so-nice review, but I went recently and found their tasting menu to be pretty solid\\n* **63 Clinton** ($100ish pp) Was really impressed with this tasting menu, some of the best\\n* **Oxalis** (I feel like I\\'m just guessing the prices now, $120ish?) Really solid tasting menu\\n* **Xixa** ($55ish pp) I LOVE their chef menu and think it\\'s such a good deal. Mexican-inspired food. Their sister restaurant, **Traif**, is less good IMO\\n* **Torien** ($240 pp) If you like Yakitori, this place was a pretty cool and good. If you only have the budget for 1-2 fancy tasting menus, I would skip this though.\\n* **Blue Hill at Stone Barns** ($300+ pp) Highly recommend renting a car, this + Atomix are both \\\\*chefs kiss\\\\*\\n\\nSome \"runner ups\" that are good but not in my recommended list:\\n\\n* **Contra** (LES) small plates + tasting menu, found the tasting menu\\'s dishes to be very hit or miss, but the ones that were good were REALLY good.\\n* **Atera** (Tribeca) very expensive tasting menu, found it to be pretty solid overall, and I think their non-alcoholic drinks pairing was incredible. Even within the 2 star restaurants this is on the higher end of the budget, I wouldn\\'t recommend it unless you\\'re really looking for a bougie non-alcoholic drink pairing\\n* **Aska** (Williamsburg) good all around but not at the level of Atomix for the same price point IMO. They also used to have a fun juice pairing but idk what happened to it. Really enjoyed the wine pairing, though.\\n* **Fulgarances** (Greenpoint) rotating chef residencies that do tasting menus. They tend to be really hit or miss depending on the chef, but you should check if there\\'s one you like in town', \"Needs way more Queens, Brooklyn and Upper Manhattan! NYC is much more than Lower Manhattan, and food is a great way to explore the city.\\n\\nLook up some recommendation threads for Jackson Heights — you gotta get Indian food there in addition to Birria Landia. Samudra and Angel Indian are two of my faves, but there's many more too. And Astoria has great spots like King of Falafel, Taverna Kyclades, Sal Kris & Charlies.\\n\\nThe food scene in Harlem is great, and there are lots of great Latin spots in Washington Heights. \\n\\nAnd I'm no expert on Brooklyn, but you should look up some threads on Prospect/Crown Heights, Bushwick (for hipster-y spots), Greenpoint, Red Hook, Bed-Stuy...\", \"I'd recommend the original Emily location in Clinton Hill over West Village. The burger is slightly different and better at the original imo. Also +1 to Lucali.\", \"First, here are some places I make sure to take friends when they visit:\\n\\n-Shake Shack (burgers)\\n\\n-Lucali and Di Fara (pizza)\\n\\n-Katz's Deli (pastrami sandwich—SO GOOD)\\n\\n-Pommes Frites (fries with lots of sauces—mango chutney is great)\\n\\n-Xian Famous Foods (Chinese Xi'an food)\\n\\n-Ippudo and Totto (ramen)\\n\\n-Bonchon (Korean-style fried chicken)\\n\\n-Peter Luger (porterhouse steak)\\n\\n-Nan Xiang Dumpling House (Chinese soup dumplings / xiaolongbao)\\n\\n-Murray's Bagels AND Ess-a-Bagel (both have really good bagels!)\\n\\n---\\n\\nBurgers:\\n\\n-Shake Shack is probably the must-try NYC burger.\\n\\n-I like the Spotted Pig's burger and Minetta Tavern's Black Label Burger. You can make a reservation for the latter, but you'll likely have to wait one to two hours for the former.\\n\\n-The Breslin's Lamb Burger is also really good!\\n\\n---\\n\\nPizza:\\n\\n-Di Fara in Brooklyn for more traditional NYC pizza. The wait time is around an hour.\\n\\n-Lucali in Brooklyn for more artisanal pizza. The wait time is also around an hour. Arrive before 5:45 to get a minimal wait time.\\n\\n-Other solid pizza places include: Motorino, Luzzo's, and Artichoke Basille's (REALLY GOOD when you're drunk haha).\\n\\n---\\n\\nHot Dogs:\\n\\n-Nathan's in Coney Island has the best hot dog in NYC in my opinion.\\n\\n-Crif Dogs and Japadog are both good. I have a lot of friends who really like one but hate the other.\\n\\n-If you plan to stop by Crif Dogs (or Xe May for the banh mi), try to make reservations at Please Don't Tell; it's a speakeasy hidden in Crif Dogs that makes REALLY good cocktails.\\n\\n---\\n\\nFried Chicken:\\n\\n-Amy Ruth's in Harlem has REALLY good chicken and waffles!\\n\\n---\\n\\nDelis:\\n\\n-Katz's Deli has amazing pastrami.\\n\\n-Russ & Daughters, which is right next to Katz's, is a pretty great Jewish deli. They have great bagels with lox/salmon, cream cheese, and so on.\\n\\n-Barney Greengrass (in the Upper West Side) is another great Jewish deli. They have amazing sturgeon!\\n\\n---\\n\\nBBQ:\\n\\n-Fette Sau in Brooklyn is my favorite.\\n\\n-Hill Country BBQ in Manhattan is my second favorite, though I don't think it comes close.\\n\\n---\\n\\nSteak:\\n\\n-The porterhouse at Peter Luger's in Brooklyn is amazing.\\n\\n-The mutton (it's really lamb) at Keen's is great, too.\\n\\n---\\n\\nItalian:\\n\\n-I like Babbo and Del Posto. Del Posto's more for fine dining, and Babbo has really, really good pasta.\\n\\n---\\n\\nTapas:\\n\\n-Eh... Tapas in NYC aren't that great, especially compared to the amazing tapas places in Spain :(. I honestly don't really know haha. I have a list of places I like, but... I'm not really sure if they're worth trying for you if you came from London :(.\\n\\n---\\n\\nVenezuelan:\\n\\n-Caracas Arepas has REALLY good arepas, and it's pretty cheap, too!\\n\\n---\\n\\nChinese:\\n\\n-Xiaolongbao? Nan Xiang in Flushing. My friends visiting from Cali like to compare it to Din Tai Fung in Arcadia sometimes; they're different styles of xiaolongbao. I still think DTF in Taipei is my favorite, though. still, Nan Xiang is probably my favorite place in NYC.\\n\\n-Normal dumplings? People like Prosperity Dumpling (5 for $1) and Vanessa's Dumpling House (I want to say the basic is 4 for $1.). Both are really cheap.\\n\\n-Noodles? I personally like Lanzhou in Golden Shopping Mall in Flushing (across Xi'an Famous Foods) the most. Others like Lamb Noodle Soup, though (Yelp it!). If you want to stay in Manhattan, Tasty Hand-Pulled Noodles is decent.\\n\\n-Szechuan? I like Lan Sheng.\\n\\n-People REALLY like Mission Chinese Food for fun spins on Chinese dishes. It's worth a try if you're curious; you can read about it and some of their dishes online! It's usually at least an hour-long wait, though.\\n\\n-And random stuff/more Xi'an food? I like the beef burgers and lamb skewers at Xi'an famous and Biang!\\n\\n---\\n\\nKorean:\\n\\n-Honestly, the Korean food in NYC isn't too amazing. Lots of the food in Ktown is similar and overpriced (compared to LA, at least :(.) One good thing is that they'll still serve you lots of soju after 4 a.m.!\\n\\n-Sik Gaek in Woodside and Flushing has sannakji (cut-up raw octopus)!\\n\\n-I LOVE taking my friends to try Korean-style fried chicken at Bonchon!\\n\\n-For fine dining with a few Korean elements, Jungsik is pretty amazing.\\n\\n---\\n\\nSushi:\\n\\nThe places I like are:\\n\\n-Masa (but that's way too expensive—it goes to about $1,000/person)\\n\\n-Sushi Yasuda ($150/person for omakase)\\n\\n-15 east ($150–200/person for omakase)\\n\\n-Gari (really inventive and not traditional at all—it's about $200 for omakase if you eat a solid amount).\\n\\n-If you want cheaper places, Sushi Azabu and Ushiwakamaru are pretty good.\\n\\n---\\n\\nKaiseki:\\n\\n-Once again, Masa probably has the best, but it's not really a realistic choice to go to :(.\\n\\n-I also really like Soto for their kaiseki dishes; the sushi is okay there.\\n\\n-Kyo Ya has really good kaiseki, too!\\n\\n-Kajitsu is good if you don't mind trying vegetarian kaiseki! It's kind of pricey, though, and they might not be as good as they were in years past; the previous head chef apparently left in mid-2011 :(.\\n\\n---\\n\\nOther Japanese:\\n\\n-Ramen: Ippudo and Totto are my favorites. I wouldn't really use your time to go anywhere else for ramen.\\n\\n-Soba: Soba-ya's great!\\n\\n-Yakitori: Hm. This one's hard. People usually just go to Yakitori Taisho or Yakitori Totto in St. Mark's Place, but... I've had friends from Japan who didn't love those two places' yakitori.\\n\\n-Japanese Pasta: Basta Pasta's supposed to be good!\\n\\n-Takoyaki (fried octopus balls): Otafuku is good.\\n\\n---\\n\\nThai:\\n\\n-SriPraPhai in Woodside, Queens, is my favorite.\\n\\n-The duck panang curry in Ayada Thai (also near SriPraPhai) is AMAZING. Also, if you stop by Woodside, try to stop by Fresca La Crepe (They make my favorite crepes in NYC!).\\n\\n---\\n\\nVietnamese:\\n\\n-Pho: Honestly, I don't really know a really good place here that compares with the great San Jose or Westminster places.\\n\\n-Banh mi: Ba Xuyen in Brooklyn has the best banh mi in NYC. Unfortunately, it's pretty far. For a closer one that's decent, try Xe May on 8th St. and 1st Ave. (That's also near Please Don't Tell, which is a speakeasy with really good cocktails. You want to make reservations beforehand, though!)\\n\\n---\\n\\nFine Dining:\\n\\n-If you want something closer to modernist stuff like Fat Duck, the closest is probably wd~50 in terms of modernist cuisine.\\n\\n-If you want really, really good fine dining that isn't super modernist (so closer to, for instance, Ramsay, Ducasse, and Helene Darroze), Per Se, Le Bernardin, and Eleven Madison Park are all amazing.\\n\\n\\n-Marea is pretty solid if you want a cheaper place with good seafood (though I don't think the seafood there is as great as Le Bernardin's seafood haha).\\n\\n-Jean-Georges is really good if you like fine dining with some Asian influences. They have a REALLY, REALLY GOOD lunch deal, so it's too bad that you don't have lunch free :(.\\n\\n-If you want REALLY traditional French fine dining, Daniel is good. It feels too stuffy for me, though. (Then again, even Le Bernardin feels pretty stuffy to me!)\\n\\n-I can't really think of an equivalent to a place like Dinner by H.B. in NYC. Hm...\\n\\n---\\n\\nDessert:\\n\\n-I really like more Asian desserts. to that end, I like: Chikalicious, Cha-An, and Kyotofu. I guess Spot Dessert Bar is solid, but it's always crowded; I think it's kind of overrated :(.\\n\\n-Wafels & Dinges (waffle dessert truck) is great!\\n\\n-If you stop by Woodside, try to stop by Fresca La Crepe. They make my favorite crepes in NYC!\\n\\n-I honestly haven't really explored the other dessert places, so I can't say much about them :(.\\n\\n---\\n\\nBest Bakery:\\n\\n-Honestly, I don't really know :(. I really, really like Maison Kayser a LOT, though. Their baguettes and croissants are amazing!\\n\\n-Other people usually like to go to Bouchon Bakery; that's generally a solid choice (Thomas Keller and all).\\n\\n---\\n\\nRandom:\\n\\n-I like the Momofuku restaurants, but they ARE pretty overpriced. (Milk bar, Ssam, Ma Peche, Ko, and Noodle Bar—Noodle Bar has REALLY good pork buns but below-average ramen.)\\n\\n-Laduree has the best macarons, but... you have one in London, so you really don't need to go there. (AND you also have Pierre Herme in London. Lucky!)\\n\\n-Visiting friends always want to try the 53rd St. and 6th Ave. halal food cart to try the chicken/lamb and rice, so I'll usually take friends there. I personally think it's a bit overrated. (Admittedly, though, it IS a lot of food for only $6, and that white sauce IS good hahaha.)\\n\\n-For fish and chips, A Salt and Battery is pretty solid. Still... you're from London, so don't waste your time there hahaha. (Lucky—you get to eat at places like Fryer's Delight whenever you want!)\", 'Sbarro Times Square for an authentic NYC dining experience.', \"I would steer clear of Little Italy if you're hoping to find good Italian food there. Most of those restaurants are complete tourist traps with mediocre food at best. If you want good Italian food, I would suggest that you try to head out to a neighborhood that is predominantly Italian-American (Bensonhurst, East Williamsburg, both of which are in Brooklyn. There's also Arthur Avenue in the Bronx).\", 'Oh man I love when these questions pop up!\\n\\nBest Pizza - [Paulie Gee\\'s](http://www.pauliegee.com/home.php). It is far. You will probably have to wait. But it is hands down the best pizza in New York. Forget the \"classic\" places with overpriced, overcrowded crap. Paulie Gee\\'s is one of the new wave Brooklyn joints, and in my - and many other people\\'s - opinion, it is the best of them.\\n\\nNew American - [The Dutch](http://thedutchnyc.com/). I love pretty much everything on the menu, but the smoked ricotta ravioli is insane. Also, probably the best pies in the city. Absolutely incredible.\\n\\nChinese- [Mission Chinese Food](http://www.missionchinesefood.com/ny/). Okay, Mission isn\\'t classic chinese at all, but I didn\\'t know where to put it. This outpost of a San Francisco restaurant serves crazy versions of traditional Szechuan cuisine. Kung Pao Pastrami? Yes. Broccoli Beef Brisket with Smoked Oyster Sauce? So good. Go for lunch, as the wait for dinner can be completely insane.\\n\\nDim Sum - [Golden Unicorn](http://www.goldenunicornrestaurant.com/). A huge tradition on New York Sundays, there are no shortage of dim sum restaurants. For a real traditional take, I like Golden Unicorn. That being said, if you have the time to go out to Flushing, Queens, there are probably even more traditional - and better - dim sum places out there.\\n\\nSmoked Fish - [Barney Greengrass](http://www.barneygreengrass.com/welcome.php). I know what you\\'re thinking. Smoked fish? How is that a category worth my time? Just trust me. Barney Greengrass is an institution. It is the mecca of smoked fish. Their sturgeon is in the pantheon of New York food. Just go.\\n\\nNew American round 2 - [No. 7](http://www.no7restaurant.com/menu-dinner-01.html). \"New American\" or whatever you want to call it is the basic NYC restaurant these days, so it only seems fair to give it some more representation. No. 7 is a crazy inventive place in the middle of Brooklyn. They do some incredible things with vegetables, let me tell you. It should also be noted that they run a sandwich shop attached to the Ace Hotel that is just absurdly good. [No. 7 Sub Shop](http://no7sub.com/).\\n\\nAmerican with a hint of England - [The Breslin](http://thebreslin.com/). Okay, so The Breslin is amazing. April Bloomfield is a wizard of meat. The lamb burger is the absolute best burger in town (just ask Frank Bruni, the last NYTimes reviewer worth a damn). But if you\\'re missing your daytime pudding or whatever this is the place to go.\\n\\nSouthern American - [The Redhead](http://theredheadnyc.com/). Really, a more upscale version of the south, but the Redhead has my favorite fried chicken, the second best burger, and the best shrimp and grits in the city. A criminally underrated restaurant, they also do Crawfish Boils in the summer. So come back in the summer. Oh! And the cocktails are awesome.\\n\\nJapanese - [Aburiya Kinnosuke](http://aburiyakinnosuke.com/). Let\\'s be honest. The best sushi is too expensive. The best ramen is all the same. The best yakitori probably doesn\\'t exist. Therefore, my favorite Japanese restaurant is an izakaya called Aburiya Kinnosuke. I mean, they do serve sushi and stuff, but really this place is all about grilled collars of fish. Goddam they are good.\\n\\nFine Dining - [Blue Hill](http://www.bluehillfarm.com/food/blue-hill-new-york). The leading farm-to-table restaurant in New York because the chef, Danny Barber, owns a farm in upstate New York. Really, I\\'d recommend you go there (Blue Hill at Stone Barns) but you can\\'t get there by subway (obviously). Whatever is fresh is amazing here. And everything is fresh.\\n\\n', 'Best Italian restaurant is easy:  Becco (http://becco-nyc.com/).  It is owned by the same people who own New York City\\'s \"fanciest\" Italian Restaurant, Felidia.  Same quality of food, but substantially lower price.  \\n\\nThey have the best thing:  All-you-can eat homemade pasta (3 different kinds) for $22.95 served out of sauteé pans tableside... and I have never had a bad choice.  They had this walnut ravioli in a white mushroom sauce one time that I still dream about.\\n\\nSeriously New Yorkers, if you\\'ve never tried this place, you have to go.\\n\\nOh... also try Luke\\'s Lobster (http://www.lukeslobster.com/) down in the East Village for very informal but wonderful seafood.\\n\\nSomeone else mentioned Carnegie Deli.  Definitely go there, yes.  \\n\\nPlease Don\\'t Tell speakeasy (http://pdtnyc.com/) is expensive but a great place for some of the best cocktails you will every try.', 'Pastrami sandwich from Katz’s or second avenue deli. \\n\\nA slice from L’Industrie\\n\\nCumin lamb noodles from xian famous foods \\n\\nBagel w lox at Russ and Daughters\\n\\nShackburger from shake shack', 'I would agree with the people giving you cuisine types over specific spots. Every dish/cuisine has multiple spots that can argue for the top spot in NYC. \\n\\nFoods you should eat/ not in any specific order:\\n1. NYC Bagel with whatever you want on it\\n2. NYC steakhouse experience \\n3. Halal Cart (lamb and chicken over rice white sauce hot sauce)\\n4. Pizza\\n5. Jewish Deli (pastrami is better than the rest in my opinion)\\n6. (I know you said 5) Chinese food from one of the million awesome places. I prefer the banquet halls of sunset park but flushing is a must visit place in general. \\n\\nOther foods if you have time:\\nCheck out Jackson heights. So much good food. Mostly eastern and southern Asian. Some Spanish food too. \\n\\nAstoria for Greek food\\n\\nHarlem for African food. It’s been a long time but there used to be a bunch near 116th street where all the African cab drivers used to go. I love walking into a place and not hearing any English being spoken in a NYC restaurant by the employees or people eating there. That’s how you know you’re getting a taste of home for the people who frequent those places. But who knows. Maybe that’s just me.', \"1) Pastrami sandwich from Katz, Pastrami Queen, or 2nd Ave Deli\\n\\n2) Bagel with whatever you want on it from Court Street Bagels or Russ & Daughters\\n\\n3) A plain cheese slice from Joe's or Sicilian pepperoni square from Prince St. Pizza\\n\\n4) Cheeseburger from Brindleroom \\n\\n5) Chinese food from one of the millions of spots in Chinatown\", \"As someone else said, it would help to know budget and time of visit. It would also help to know where you're from.  \\n\\n\\nNY has really good of lots of things but depending on where you're from, you might have better there.  \\n\\n\\nI'd say two things for sure:\\n\\nBagels\\n\\nA slice of pizza\\n\\n&#x200B;\\n\\nOpinions will vary greatly on the best or a great bagel or slice but you'll find lots of threads on that if you search.  \\n\\n\\nI'd probably also add a Jewish Deli sandwich but again, you might be able to get a great one locally.\", 'Not sure whether you’re looking for specifics but I would say:\\n\\nBagels, Jewish deli, pizza, Sichuan food, Halal cart\\n\\nCould also make a case for Korean, sushi, Thai, Taiwanese, burgers, or dim sum depending on where in the world you’re coming from\\n\\nAt the end of the day you’ll find whatever you’re looking for, I think these are just the 5 things that you won’t find the same quantity/quality of outside NY'] 15\n"
     ]
    }
   ],
   "source": [
    "posts = []\n",
    "\n",
    "comment_urls = []\n",
    "comment_upvotes = []\n",
    "\n",
    "for url in urls:\n",
    "    submission = reddit.submission(url=url)\n",
    "    submission.comment_sort = 'top'\n",
    "\n",
    "    comments = 0\n",
    "    # Top 5 comments in this post by upvotes\n",
    "    for top_level_comment in submission.comments:\n",
    "\n",
    "        # print url to the comment\n",
    "        comment_url = \"https://reddit.com\" + top_level_comment.permalink\n",
    "        comment_urls.append(comment_url)\n",
    "        comment_upvotes.append(top_level_comment.ups)\n",
    "\n",
    "        if comments == 5:\n",
    "            break\n",
    "        if top_level_comment.body != \"[deleted]\" and top_level_comment.body != \"[removed]\":\n",
    "            posts.append(top_level_comment.body)\n",
    "            comments += 1\n",
    "\n",
    "    # posts.append(submission.selftext)\n",
    "\n",
    "print(posts, len(posts))\n"
   ]
  },
  {
   "cell_type": "code",
   "execution_count": 10,
   "metadata": {},
   "outputs": [],
   "source": [
    "from langchain import PromptTemplate"
   ]
  },
  {
   "cell_type": "code",
   "execution_count": 11,
   "metadata": {},
   "outputs": [],
   "source": [
    "from langchain.chat_models import ChatOpenAI\n",
    "from langchain.llms import OpenAI"
   ]
  },
  {
   "cell_type": "code",
   "execution_count": 12,
   "metadata": {},
   "outputs": [],
   "source": [
    "class Recommendation(BaseModel):\n",
    "    body: str"
   ]
  },
  {
   "cell_type": "code",
   "execution_count": 13,
   "metadata": {},
   "outputs": [],
   "source": [
    "from langchain.output_parsers import CommaSeparatedListOutputParser\n",
    "\n",
    "output_parser = CommaSeparatedListOutputParser()\n",
    "\n",
    "format_instructions = output_parser.get_format_instructions()"
   ]
  },
  {
   "cell_type": "code",
   "execution_count": 14,
   "metadata": {},
   "outputs": [
    {
     "data": {
      "text/plain": [
       "'Your response should be a list of comma separated values, eg: `foo, bar, baz`'"
      ]
     },
     "execution_count": 14,
     "metadata": {},
     "output_type": "execute_result"
    }
   ],
   "source": [
    "format_instructions"
   ]
  },
  {
   "cell_type": "code",
   "execution_count": 15,
   "metadata": {},
   "outputs": [],
   "source": [
    "prompt = PromptTemplate(\n",
    "    template = \"\"\"I would like you to extract the recommendated businesses and attractions from this Reddit comment. Do not include the address or physical locations, only the business names. Do not create extra locations that are not in the comment, only extract locations that are stated in the comment itself.\n",
    "\n",
    "{body}\n",
    "\n",
    "{format_instructions}\n",
    "\"\"\",\n",
    "    input_variables = [\"body\"],\n",
    "    partial_variables={\"format_instructions\": format_instructions}\n",
    ")"
   ]
  },
  {
   "cell_type": "code",
   "execution_count": 16,
   "metadata": {},
   "outputs": [],
   "source": [
    "model = OpenAI(temperature=0, openai_api_key=os.environ.get(\"OPENAI_API_KEY\"))"
   ]
  },
  {
   "cell_type": "code",
   "execution_count": 17,
   "metadata": {},
   "outputs": [
    {
     "data": {
      "text/plain": [
       "'I would like you to extract the recommendated businesses and attractions from this Reddit comment. Do not include the address or physical locations, only the business names. Do not create extra locations that are not in the comment, only extract locations that are stated in the comment itself.\\n\\nI do appreciate whomever added Olive Garden to the list. I assume they mean the one in Times Square for maximum authenticity.\\n\\nYour response should be a list of comma separated values, eg: `foo, bar, baz`\\n'"
      ]
     },
     "execution_count": 17,
     "metadata": {},
     "output_type": "execute_result"
    }
   ],
   "source": [
    "inp = prompt.format(body=posts[0])\n",
    "inp"
   ]
  },
  {
   "cell_type": "code",
   "execution_count": 18,
   "metadata": {},
   "outputs": [],
   "source": [
    "output = model(inp)"
   ]
  },
  {
   "cell_type": "code",
   "execution_count": 19,
   "metadata": {},
   "outputs": [
    {
     "data": {
      "text/plain": [
       "['Olive Garden']"
      ]
     },
     "execution_count": 19,
     "metadata": {},
     "output_type": "execute_result"
    }
   ],
   "source": [
    "output_parser.parse(output)"
   ]
  },
  {
   "cell_type": "code",
   "execution_count": 20,
   "metadata": {},
   "outputs": [],
   "source": [
    "outputs = []\n",
    "\n",
    "for post in posts:\n",
    "    inp = prompt.format(body=post)\n",
    "    output = model(inp)\n",
    "    outputs.append(output_parser.parse(output))"
   ]
  },
  {
   "cell_type": "code",
   "execution_count": 21,
   "metadata": {},
   "outputs": [
    {
     "data": {
      "text/plain": [
       "\"List 1: Olive Garden\\nList 2: Saigon Shack, Spicy Moon, Pommes Frites, The Kati Roll Company, The Dosa Man, Third Rail, Meskerem, Jajaja, The Donut Project, Jeju Noodle Bar, Hide Chan, Nakamura, TabeTomo, Joe's, 100 Mott St, New Green Bo, The Bao, Memories of Shanghai, Kajitsu, Grace St, Katsu-Hama, Peter Lugar, Keens, Playground, Khao Kang\\nList 3: Lucali, Zooba, Veselka, Haile, Thursday Kitchen, 4 Charles, Suki, Raku, Salma, Forma, Taim, Cote, Misi, Lilia, Bernie's, 4 Horsemen, Haidilao Hotpot, Claro, Oxomoco, Le Crocodile, Jing Fong, Golden Unicorn, East Harbor Seafood Palace, Carbone, Kopitiam, Dhamaka, Semma, Magnolia Bakery, Levain, B&H Dairy, Golda, Maya Congee, Astoria Seafood, Queen's Night Market, Wayla, Casa Mono, Paulie Gee's, Atomix, 63 Clinton, Oxalis, Xixa, Torien, Blue Hill at Stone Barns, Contra, Atera, Aska, Fulgarances\\nList 4: Jackson Heights, Birria Landia, Samudra, Angel Indian, King of Falafel, Taverna Kyclades, Sal Kris & Charlies, Harlem, Washington Heights, Prospect/Crown Heights, Bushwick, Greenpoint, Red Hook, Bed-Stuy\\nList 5: Emily, Lucali\\nList 6: Shake Shack, Lucali, Katz's Deli, Pommes Frites, Xian Famous Foods, Ippudo, Totto, Bonchon, Peter Luger, Nan Xiang Dumpling House, Murray's Bagels, Ess-a-Bagel, Spotted Pig, Minetta Tavern, Breslin's Lamb Burger, Amy Ruth's, Russ & Daughters, Barney Greengrass, Fette Sau, Hill Country BBQ, Babbo, Del Posto, Please Don't Tell, Caracas Arepas, Motorino, Luzzo's, Artichoke Basille's, Nathan's, Crif Dogs, Japadog, Masa, Sushi Yasuda, 15 East, Gari, Sushi Azabu, Ushiwakamaru, Mission Chinese Food, Jungsik, Soto, Kyo Ya, Kajitsu, Soba-ya, Yakitori Taisho, Yakitori Totto, Basta Pasta, Otafuku, SriPraPhai, Ayada Thai, Fresca La Crepe, Ba Xuyen, Lan Sheng, Lanzhou, Tasty Hand-Pulled Noodles, Sik Gaek, Bonchon,\\nList 7: Sbarro\\nList 8: Bensonhurst, East Williamsburg, Arthur Avenue\\nList 9: Paulie Gee's, The Dutch, Mission Chinese Food, Golden Unicorn, Barney Greengrass, No. 7, No. 7 Sub Shop, The Breslin, The Redhead, Aburiya Kinnosuke, Blue Hill\\nList 10: Becco, Luke's Lobster, Carnegie Deli, Please Don't Tell\\nList 11: Katz's, Second Avenue Deli, L'Industrie, Xian Famous Foods, Russ and Daughters, Shake Shack\\nList 12: NYC Bagel, NYC Steakhouse, Halal Cart, Pizza, Jewish Deli, Chinese Food, Jackson Heights, Astoria, Greek Food, Harlem, African Food\\nList 13: Katz, Pastrami Queen, 2nd Ave Deli, Court Street Bagels, Russ & Daughters, Joe's, Prince St. Pizza, Brindleroom, Chinatown\\nList 14: Bagels, Pizza, Jewish Deli sandwich\\nList 15: Bagels, Jewish deli, pizza, Sichuan food, Halal cart, Korean, sushi, Thai, Taiwanese, burgers, dim sum\""
      ]
     },
     "execution_count": 21,
     "metadata": {},
     "output_type": "execute_result"
    }
   ],
   "source": [
    "outputs_formatted = []\n",
    "\n",
    "for i, out in enumerate(outputs):\n",
    "    outputs_formatted.append(f\"List {i+1}: \" + ', '.join(out).replace('\\n', ''))\n",
    "\n",
    "outputs_formatted = '\\n'.join(outputs_formatted)\n",
    "outputs_formatted\n"
   ]
  },
  {
   "cell_type": "code",
   "execution_count": 22,
   "metadata": {},
   "outputs": [],
   "source": [
    "prompt_2 = PromptTemplate(\n",
    "    template = \"\"\"Please find the best 20 locations to visit in New York City, based on the locations given in these lists. Do not return more than 20 locations in the list. The lists are:\n",
    "\n",
    "{body}\n",
    "\n",
    "Your response should be a list of comma separated values of the location and the list number paired together using parentheses, eg: `(Bakery, 1), (Bar, 7), (Park, 5)`\n",
    "\"\"\",\n",
    "    input_variables = [\"body\"],\n",
    ")"
   ]
  },
  {
   "cell_type": "code",
   "execution_count": 23,
   "metadata": {},
   "outputs": [
    {
     "data": {
      "text/plain": [
       "\"I to find the best 20 locations to visit in New York City, based on the locations given in these lists. Do not return more than 20 locations in the list. The lists are:\\n\\nList 1: Olive Garden\\nList 2: Saigon Shack, Spicy Moon, Pommes Frites, The Kati Roll Company, The Dosa Man, Third Rail, Meskerem, Jajaja, The Donut Project, Jeju Noodle Bar, Hide Chan, Nakamura, TabeTomo, Joe's, 100 Mott St, New Green Bo, The Bao, Memories of Shanghai, Kajitsu, Grace St, Katsu-Hama, Peter Lugar, Keens, Playground, Khao Kang\\nList 3: Lucali, Zooba, Veselka, Haile, Thursday Kitchen, 4 Charles, Suki, Raku, Salma, Forma, Taim, Cote, Misi, Lilia, Bernie's, 4 Horsemen, Haidilao Hotpot, Claro, Oxomoco, Le Crocodile, Jing Fong, Golden Unicorn, East Harbor Seafood Palace, Carbone, Kopitiam, Dhamaka, Semma, Magnolia Bakery, Levain, B&H Dairy, Golda, Maya Congee, Astoria Seafood, Queen's Night Market, Wayla, Casa Mono, Paulie Gee's, Atomix, 63 Clinton, Oxalis, Xixa, Torien, Blue Hill at Stone Barns, Contra, Atera, Aska, Fulgarances\\nList 4: Jackson Heights, Birria Landia, Samudra, Angel Indian, King of Falafel, Taverna Kyclades, Sal Kris & Charlies, Harlem, Washington Heights, Prospect/Crown Heights, Bushwick, Greenpoint, Red Hook, Bed-Stuy\\nList 5: Emily, Lucali\\nList 6: Shake Shack, Lucali, Katz's Deli, Pommes Frites, Xian Famous Foods, Ippudo, Totto, Bonchon, Peter Luger, Nan Xiang Dumpling House, Murray's Bagels, Ess-a-Bagel, Spotted Pig, Minetta Tavern, Breslin's Lamb Burger, Amy Ruth's, Russ & Daughters, Barney Greengrass, Fette Sau, Hill Country BBQ, Babbo, Del Posto, Please Don't Tell, Caracas Arepas, Motorino, Luzzo's, Artichoke Basille's, Nathan's, Crif Dogs, Japadog, Masa, Sushi Yasuda, 15 East, Gari, Sushi Azabu, Ushiwakamaru, Mission Chinese Food, Jungsik, Soto, Kyo Ya, Kajitsu, Soba-ya, Yakitori Taisho, Yakitori Totto, Basta Pasta, Otafuku, SriPraPhai, Ayada Thai, Fresca La Crepe, Ba Xuyen, Lan Sheng, Lanzhou, Tasty Hand-Pulled Noodles, Sik Gaek, Bonchon,\\nList 7: Sbarro\\nList 8: Bensonhurst, East Williamsburg, Arthur Avenue\\nList 9: Paulie Gee's, The Dutch, Mission Chinese Food, Golden Unicorn, Barney Greengrass, No. 7, No. 7 Sub Shop, The Breslin, The Redhead, Aburiya Kinnosuke, Blue Hill\\nList 10: Becco, Luke's Lobster, Carnegie Deli, Please Don't Tell\\nList 11: Katz's, Second Avenue Deli, L'Industrie, Xian Famous Foods, Russ and Daughters, Shake Shack\\nList 12: NYC Bagel, NYC Steakhouse, Halal Cart, Pizza, Jewish Deli, Chinese Food, Jackson Heights, Astoria, Greek Food, Harlem, African Food\\nList 13: Katz, Pastrami Queen, 2nd Ave Deli, Court Street Bagels, Russ & Daughters, Joe's, Prince St. Pizza, Brindleroom, Chinatown\\nList 14: Bagels, Pizza, Jewish Deli sandwich\\nList 15: Bagels, Jewish deli, pizza, Sichuan food, Halal cart, Korean, sushi, Thai, Taiwanese, burgers, dim sum\\n\\nYour response should be a list of comma separated values of the location and the list number paired together using parentheses, eg: `(Bakery, 1), (Bar, 7), (Park, 5)`\\n\""
      ]
     },
     "execution_count": 23,
     "metadata": {},
     "output_type": "execute_result"
    }
   ],
   "source": [
    "inp2 = prompt_2.format(body=outputs_formatted)\n",
    "inp2"
   ]
  },
  {
   "cell_type": "code",
   "execution_count": 24,
   "metadata": {},
   "outputs": [],
   "source": [
    "output2 = model(inp2)\n",
    "final = output_parser.parse(output2)"
   ]
  },
  {
   "cell_type": "code",
   "execution_count": 25,
   "metadata": {},
   "outputs": [
    {
     "data": {
      "text/plain": [
       "[('Olive Garden', 1),\n",
       " ('Saigon Shack', 2),\n",
       " ('Spicy Moon', 2),\n",
       " ('Pommes Frites', 2),\n",
       " ('The Kati Roll Company', 2),\n",
       " ('The Dosa Man', 2),\n",
       " ('Third Rail', 2),\n",
       " ('Meskerem', 2),\n",
       " ('Jajaja', 2),\n",
       " ('The Donut Project', 2),\n",
       " ('Jeju Noodle Bar', 2),\n",
       " ('Hide Chan', 2),\n",
       " ('Nakamura', 2),\n",
       " ('TabeTomo', 2),\n",
       " (\"Joe's\", 2),\n",
       " ('100 Mott St', 2),\n",
       " ('New Green Bo', 2),\n",
       " ('The Bao', 2),\n",
       " ('Memories of Shanghai', 2),\n",
       " ('Kajitsu', 2)]"
      ]
     },
     "execution_count": 25,
     "metadata": {},
     "output_type": "execute_result"
    }
   ],
   "source": [
    "temp = output2.strip().split(',')[:40]\n",
    "\n",
    "# join the ith and i+1th elements together, where i are the even indices\n",
    "final = [','.join(temp[i:i+2]) for i in range(0, len(temp), 2)]\n",
    "\n",
    "# parse the final outputs into a list of tuples\n",
    "final = [tuple(x.strip().replace('(', '').replace(')', '').split(',')) for x in final]\n",
    "\n",
    "# Convert the numbers into integers, removing anything that is not a number\n",
    "final = [(x[0].strip(), int(''.join(filter(str.isdigit, x[1])))) for x in final]\n",
    "final"
   ]
  },
  {
   "cell_type": "code",
   "execution_count": 26,
   "metadata": {},
   "outputs": [
    {
     "data": {
      "text/plain": [
       "[('Olive Garden',\n",
       "  43,\n",
       "  'https://reddit.com/r/FoodNYC/comments/ubxf1s/looking_for_input_on_my_nyc_staple_restaurant_list/i66zygl/'),\n",
       " ('Saigon Shack',\n",
       "  27,\n",
       "  'https://reddit.com/r/FoodNYC/comments/ubxf1s/looking_for_input_on_my_nyc_staple_restaurant_list/i677hz5/'),\n",
       " ('Spicy Moon',\n",
       "  27,\n",
       "  'https://reddit.com/r/FoodNYC/comments/ubxf1s/looking_for_input_on_my_nyc_staple_restaurant_list/i677hz5/'),\n",
       " ('Pommes Frites',\n",
       "  27,\n",
       "  'https://reddit.com/r/FoodNYC/comments/ubxf1s/looking_for_input_on_my_nyc_staple_restaurant_list/i677hz5/'),\n",
       " ('The Kati Roll Company',\n",
       "  27,\n",
       "  'https://reddit.com/r/FoodNYC/comments/ubxf1s/looking_for_input_on_my_nyc_staple_restaurant_list/i677hz5/'),\n",
       " ('The Dosa Man',\n",
       "  27,\n",
       "  'https://reddit.com/r/FoodNYC/comments/ubxf1s/looking_for_input_on_my_nyc_staple_restaurant_list/i677hz5/'),\n",
       " ('Third Rail',\n",
       "  27,\n",
       "  'https://reddit.com/r/FoodNYC/comments/ubxf1s/looking_for_input_on_my_nyc_staple_restaurant_list/i677hz5/'),\n",
       " ('Meskerem',\n",
       "  27,\n",
       "  'https://reddit.com/r/FoodNYC/comments/ubxf1s/looking_for_input_on_my_nyc_staple_restaurant_list/i677hz5/'),\n",
       " ('Jajaja',\n",
       "  27,\n",
       "  'https://reddit.com/r/FoodNYC/comments/ubxf1s/looking_for_input_on_my_nyc_staple_restaurant_list/i677hz5/'),\n",
       " ('The Donut Project',\n",
       "  27,\n",
       "  'https://reddit.com/r/FoodNYC/comments/ubxf1s/looking_for_input_on_my_nyc_staple_restaurant_list/i677hz5/'),\n",
       " ('Jeju Noodle Bar',\n",
       "  27,\n",
       "  'https://reddit.com/r/FoodNYC/comments/ubxf1s/looking_for_input_on_my_nyc_staple_restaurant_list/i677hz5/'),\n",
       " ('Hide Chan',\n",
       "  27,\n",
       "  'https://reddit.com/r/FoodNYC/comments/ubxf1s/looking_for_input_on_my_nyc_staple_restaurant_list/i677hz5/'),\n",
       " ('Nakamura',\n",
       "  27,\n",
       "  'https://reddit.com/r/FoodNYC/comments/ubxf1s/looking_for_input_on_my_nyc_staple_restaurant_list/i677hz5/'),\n",
       " ('TabeTomo',\n",
       "  27,\n",
       "  'https://reddit.com/r/FoodNYC/comments/ubxf1s/looking_for_input_on_my_nyc_staple_restaurant_list/i677hz5/'),\n",
       " (\"Joe's\",\n",
       "  27,\n",
       "  'https://reddit.com/r/FoodNYC/comments/ubxf1s/looking_for_input_on_my_nyc_staple_restaurant_list/i677hz5/'),\n",
       " ('100 Mott St',\n",
       "  27,\n",
       "  'https://reddit.com/r/FoodNYC/comments/ubxf1s/looking_for_input_on_my_nyc_staple_restaurant_list/i677hz5/'),\n",
       " ('New Green Bo',\n",
       "  27,\n",
       "  'https://reddit.com/r/FoodNYC/comments/ubxf1s/looking_for_input_on_my_nyc_staple_restaurant_list/i677hz5/'),\n",
       " ('The Bao',\n",
       "  27,\n",
       "  'https://reddit.com/r/FoodNYC/comments/ubxf1s/looking_for_input_on_my_nyc_staple_restaurant_list/i677hz5/'),\n",
       " ('Memories of Shanghai',\n",
       "  27,\n",
       "  'https://reddit.com/r/FoodNYC/comments/ubxf1s/looking_for_input_on_my_nyc_staple_restaurant_list/i677hz5/'),\n",
       " ('Kajitsu',\n",
       "  27,\n",
       "  'https://reddit.com/r/FoodNYC/comments/ubxf1s/looking_for_input_on_my_nyc_staple_restaurant_list/i677hz5/')]"
      ]
     },
     "execution_count": 26,
     "metadata": {},
     "output_type": "execute_result"
    }
   ],
   "source": [
    "# Create final list of the location, the number of upvotes, and the link to the comment using the list number minus 1\n",
    "final_return = [(x[0], comment_upvotes[x[1]-1], comment_urls[x[1]-1]) for x in final]\n",
    "sorted(final_return, key = lambda x: -x[1])"
   ]
  },
  {
   "cell_type": "code",
   "execution_count": null,
   "metadata": {},
   "outputs": [],
   "source": []
  }
 ],
 "metadata": {
  "kernelspec": {
   "display_name": "base",
   "language": "python",
   "name": "python3"
  },
  "language_info": {
   "codemirror_mode": {
    "name": "ipython",
    "version": 3
   },
   "file_extension": ".py",
   "mimetype": "text/x-python",
   "name": "python",
   "nbconvert_exporter": "python",
   "pygments_lexer": "ipython3",
   "version": "3.10.10"
  }
 },
 "nbformat": 4,
 "nbformat_minor": 2
}
